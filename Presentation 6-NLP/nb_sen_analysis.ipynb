{
 "cells": [
  {
   "cell_type": "code",
   "execution_count": 1,
   "metadata": {},
   "outputs": [],
   "source": [
    "# import libraries\n",
    "import pandas as pd\n",
    "import numpy as np\n",
    "\n",
    "import re\n",
    "import spacy\n",
    "\n",
    "%matplotlib inline\n",
    "import matplotlib.pyplot as plt\n",
    "import matplotlib.gridspec as gridspec\n",
    "import seaborn as sns\n",
    "\n",
    "from sklearn.feature_extraction.text import CountVectorizer\n",
    "from sklearn.feature_extraction.text import TfidfVectorizer\n",
    "\n",
    "from sklearn.model_selection import train_test_split\n",
    "\n",
    "from sklearn.svm import SVC\n",
    "\n",
    "from sklearn.metrics import confusion_matrix\n",
    "from sklearn.metrics import accuracy_score\n",
    "from sklearn.metrics import precision_score\n",
    "from sklearn.metrics import recall_score\n",
    "from sklearn.metrics import average_precision_score\n",
    "from sklearn.metrics import roc_auc_score\n",
    "from sklearn.metrics import precision_recall_curve\n",
    "from sklearn.metrics import roc_curve\n",
    "from sklearn.metrics import auc\n",
    "\n",
    "import warnings\n",
    "warnings.filterwarnings('ignore')"
   ]
  },
  {
   "cell_type": "code",
   "execution_count": 2,
   "metadata": {},
   "outputs": [],
   "source": [
    "# load data\n",
    "df = pd.read_csv('train.csv')"
   ]
  },
  {
   "cell_type": "code",
   "execution_count": 3,
   "metadata": {},
   "outputs": [
    {
     "data": {
      "text/plain": [
       "(40000, 2)"
      ]
     },
     "execution_count": 3,
     "metadata": {},
     "output_type": "execute_result"
    }
   ],
   "source": [
    "df.shape"
   ]
  },
  {
   "cell_type": "code",
   "execution_count": 4,
   "metadata": {},
   "outputs": [
    {
     "name": "stdout",
     "output_type": "stream",
     "text": [
      "<class 'pandas.core.frame.DataFrame'>\n",
      "RangeIndex: 40000 entries, 0 to 39999\n",
      "Data columns (total 2 columns):\n",
      " #   Column  Non-Null Count  Dtype \n",
      "---  ------  --------------  ----- \n",
      " 0   text    40000 non-null  object\n",
      " 1   label   40000 non-null  int64 \n",
      "dtypes: int64(1), object(1)\n",
      "memory usage: 625.1+ KB\n"
     ]
    }
   ],
   "source": [
    "df.info()"
   ]
  },
  {
   "cell_type": "code",
   "execution_count": 5,
   "metadata": {},
   "outputs": [],
   "source": [
    "# prepare the stage\n",
    "\n",
    "nlp = spacy.load('en_core_web_sm')\n"
   ]
  },
  {
   "cell_type": "code",
   "execution_count": 6,
   "metadata": {},
   "outputs": [],
   "source": [
    "# prepare the text\n",
    "def clean_text(text):\n",
    "  \n",
    "    # reduce multiple spaces and newlines to only one\n",
    "    text = re.sub(r'(\\s\\s+|\\n\\n+)', r'\\1', text)\n",
    "    \n",
    "    # remove double quotes\n",
    "    text = re.sub(r'\"', '', text)\n",
    "\n",
    "    return text\n"
   ]
  },
  {
   "cell_type": "code",
   "execution_count": 7,
   "metadata": {},
   "outputs": [],
   "source": [
    "df['text'] = df['text'].apply(clean_text)"
   ]
  },
  {
   "cell_type": "code",
   "execution_count": 12,
   "metadata": {},
   "outputs": [],
   "source": [
    "# work the text\n",
    "def convert_text(text):\n",
    "    doc = nlp(text)\n",
    "    tokens = [t for t in doc if not (t.is_stop|t.is_punct)]\n",
    "    tokens = [t.lemma_ for t in tokens]\n",
    "    clean_text = ' '.join(tokens)\n",
    "    return clean_text\n"
   ]
  },
  {
   "cell_type": "code",
   "execution_count": 13,
   "metadata": {},
   "outputs": [],
   "source": [
    "# modelling\n",
    "# helper function to show results and charts\n",
    "def show_summary_report(actual, prediction, predict_proba):\n",
    "\n",
    "    if isinstance(actual, pd.Series):\n",
    "        actual = actual.values\n",
    "    if actual.dtype.name == 'object':\n",
    "        actual = actual.astype(int)\n",
    "    if prediction.dtype.name == 'object':\n",
    "        prediction = prediction.astype(int)\n",
    "\n",
    "    accuracy_ = accuracy_score(actual, prediction)\n",
    "    precision_ = precision_score(actual, prediction)\n",
    "    recall_ = recall_score(actual, prediction)\n",
    "    roc_auc_ = roc_auc_score(actual, predict_proba)\n",
    "\n",
    "    print('Accuracy : %.4f [TP / N] Proportion of predicted labels that match the true labels. Best: 1, Worst: 0' % accuracy_)\n",
    "    print('Precision: %.4f [TP / (TP + FP)] Not to label a negative sample as positive.        Best: 1, Worst: 0' % precision_)\n",
    "    print('Recall   : %.4f [TP / (TP + FN)] Find all the positive samples.                     Best: 1, Worst: 0' % recall_)\n",
    "    print('ROC AUC  : %.4f                                                                     Best: 1, Worst: < 0.5' % roc_auc_)\n",
    "    print('-' * 107)\n",
    "    print('TP: True Positives, FP: False Positives, TN: True Negatives, FN: False Negatives, N: Number of samples')\n",
    "\n",
    "    # Confusion Matrix\n",
    "    mat = confusion_matrix(actual, prediction)\n",
    "\n",
    "    # Precision/Recall\n",
    "    precision, recall, _ = precision_recall_curve(actual, prediction)\n",
    "    average_precision = average_precision_score(actual, prediction)\n",
    "    \n",
    "    # Compute ROC curve and ROC area\n",
    "    fpr, tpr, _ = roc_curve(actual, predict_proba)\n",
    "    roc_auc = auc(fpr, tpr)\n",
    "\n",
    "    # plot\n",
    "    fig, ax = plt.subplots(1, 3, figsize = (18, 6))\n",
    "    fig.subplots_adjust(left = 0.02, right = 0.98, wspace = 0.2)\n",
    "\n",
    "    # Confusion Matrix\n",
    "    sns.heatmap(mat.T, square = True, annot = True, fmt = 'd', cbar = False, cmap = 'Blues', ax = ax[0])\n",
    "\n",
    "    ax[0].set_title('Confusion Matrix')\n",
    "    ax[0].set_xlabel('True label')\n",
    "    ax[0].set_ylabel('Predicted label')\n",
    "    \n",
    "    # Precision/Recall\n",
    "    step_kwargs = {'step': 'post'}\n",
    "    ax[1].step(recall, precision, color = 'b', alpha = 0.2, where = 'post')\n",
    "    ax[1].fill_between(recall, precision, alpha = 0.2, color = 'b', **step_kwargs)\n",
    "    ax[1].set_ylim([0.0, 1.0])\n",
    "    ax[1].set_xlim([0.0, 1.0])\n",
    "    ax[1].set_xlabel('Recall')\n",
    "    ax[1].set_ylabel('Precision')\n",
    "    ax[1].set_title('2-class Precision-Recall curve')\n",
    "\n",
    "    # ROC\n",
    "    ax[2].plot(fpr, tpr, color = 'darkorange', lw = 2, label = 'ROC curve (AUC = %0.2f)' % roc_auc)\n",
    "    ax[2].plot([0, 1], [0, 1], color = 'navy', lw = 2, linestyle = '--')\n",
    "    ax[2].set_xlim([0.0, 1.0])\n",
    "    ax[2].set_ylim([0.0, 1.0])\n",
    "    ax[2].set_xlabel('False Positive Rate')\n",
    "    ax[2].set_ylabel('True Positive Rate')\n",
    "    ax[2].set_title('Receiver Operating Characteristic')\n",
    "    ax[2].legend(loc = 'lower right')\n",
    "\n",
    "    plt.show()\n",
    "    \n",
    "    return (accuracy_, precision_, recall_, roc_auc_)\n"
   ]
  },
  {
   "cell_type": "code",
   "execution_count": 15,
   "metadata": {},
   "outputs": [
    {
     "data": {
      "text/plain": [
       "101    If only I had read the review by Alex Sander (...\n",
       "102    I found this movie to be charming. I thought t...\n",
       "103    I came across this film by accident and wish I...\n",
       "104    ****SOME SPOILERS****<br /><br />There's nothi...\n",
       "105    The plot has already been described by other r...\n",
       "                             ...                        \n",
       "195    I'm sorry to report that I have seen this film...\n",
       "196    This movie was really stupid and I thought tha...\n",
       "197    This World War II film, set in Borneo, tries s...\n",
       "198    The Desperadoes (1943) is a genuine classic, n...\n",
       "199    Ken Russell directed this weird ( Not very ) e...\n",
       "Name: text, Length: 99, dtype: object"
      ]
     },
     "execution_count": 15,
     "metadata": {},
     "output_type": "execute_result"
    }
   ],
   "source": [
    "df['text'][101:200]"
   ]
  },
  {
   "cell_type": "code",
   "execution_count": 16,
   "metadata": {},
   "outputs": [],
   "source": [
    "short1 = df['text'][:10000].apply(convert_text)"
   ]
  },
  {
   "cell_type": "code",
   "execution_count": 24,
   "metadata": {},
   "outputs": [],
   "source": [
    "short2 = df['text'][10001:20000].apply(convert_text)"
   ]
  },
  {
   "cell_type": "code",
   "execution_count": 28,
   "metadata": {},
   "outputs": [],
   "source": [
    "short3 = df['text'][20001:30000].apply(convert_text)"
   ]
  },
  {
   "cell_type": "code",
   "execution_count": 30,
   "metadata": {},
   "outputs": [],
   "source": [
    "short4 = df['text'][30001:].apply(convert_text)"
   ]
  },
  {
   "cell_type": "code",
   "execution_count": 47,
   "metadata": {},
   "outputs": [],
   "source": [
    "df['short'] = pd.concat([short1, short2, short3, short4])"
   ]
  },
  {
   "cell_type": "code",
   "execution_count": 48,
   "metadata": {},
   "outputs": [
    {
     "data": {
      "text/plain": [
       "\"Now, I love bad, old skifee movies as much as most people. And I understand that a budget is a budget. That said, Planet of the Dinosaurs is as bad as a bad movie can get. The thing has no actors, and only one attractive female whom they kill off two minutes after swimming ashore. There are literally no redeeming qualities to be found in this pile of wasted celluloid. The only thing not wasted was paper...the screenplay must have been no more than four pages long. Surely no one actually WROTE dialogue this pointless. I'm constantly amazed that such movies ever got made, much less released. I'm only glad I didn't pay to see this waste of time. It's 75 minutes of my life I'll never get back.\""
      ]
     },
     "execution_count": 48,
     "metadata": {},
     "output_type": "execute_result"
    }
   ],
   "source": [
    "df.iloc[36046]['text']"
   ]
  },
  {
   "cell_type": "code",
   "execution_count": 49,
   "metadata": {},
   "outputs": [
    {
     "data": {
      "text/plain": [
       "'love bad old skifee movie people understand budget budget say planet Dinosaurs bad bad movie thing actor attractive female kill minute swim ashore literally redeem quality find pile waste celluloid thing waste paper screenplay page long surely actually WROTE dialogue pointless constantly amazed movie get released glad pay waste time 75 minute life'"
      ]
     },
     "execution_count": 49,
     "metadata": {},
     "output_type": "execute_result"
    }
   ],
   "source": [
    "df.iloc[36046]['short']"
   ]
  },
  {
   "cell_type": "code",
   "execution_count": 50,
   "metadata": {},
   "outputs": [
    {
     "data": {
      "text/plain": [
       "0"
      ]
     },
     "execution_count": 50,
     "metadata": {},
     "output_type": "execute_result"
    }
   ],
   "source": [
    "df.iloc[36046]['label']"
   ]
  },
  {
   "cell_type": "code",
   "execution_count": 89,
   "metadata": {},
   "outputs": [
    {
     "name": "stdout",
     "output_type": "stream",
     "text": [
      "<class 'pandas.core.frame.DataFrame'>\n",
      "RangeIndex: 40000 entries, 0 to 39999\n",
      "Data columns (total 3 columns):\n",
      " #   Column  Non-Null Count  Dtype \n",
      "---  ------  --------------  ----- \n",
      " 0   text    40000 non-null  object\n",
      " 1   label   40000 non-null  int64 \n",
      " 2   short   39998 non-null  object\n",
      "dtypes: int64(1), object(2)\n",
      "memory usage: 937.6+ KB\n"
     ]
    }
   ],
   "source": [
    "df.info()"
   ]
  },
  {
   "cell_type": "code",
   "execution_count": 57,
   "metadata": {},
   "outputs": [
    {
     "data": {
      "text/plain": [
       "3"
      ]
     },
     "execution_count": 57,
     "metadata": {},
     "output_type": "execute_result"
    }
   ],
   "source": [
    "df['short'].isnull().sum()"
   ]
  },
  {
   "cell_type": "code",
   "execution_count": 62,
   "metadata": {},
   "outputs": [
    {
     "data": {
      "text/html": [
       "<div>\n",
       "<style scoped>\n",
       "    .dataframe tbody tr th:only-of-type {\n",
       "        vertical-align: middle;\n",
       "    }\n",
       "\n",
       "    .dataframe tbody tr th {\n",
       "        vertical-align: top;\n",
       "    }\n",
       "\n",
       "    .dataframe thead th {\n",
       "        text-align: right;\n",
       "    }\n",
       "</style>\n",
       "<table border=\"1\" class=\"dataframe\">\n",
       "  <thead>\n",
       "    <tr style=\"text-align: right;\">\n",
       "      <th></th>\n",
       "      <th>text</th>\n",
       "      <th>label</th>\n",
       "      <th>short</th>\n",
       "    </tr>\n",
       "  </thead>\n",
       "  <tbody>\n",
       "    <tr>\n",
       "      <th>10000</th>\n",
       "      <td>All this dismaying waste of film stock needs i...</td>\n",
       "      <td>0</td>\n",
       "      <td>NaN</td>\n",
       "    </tr>\n",
       "    <tr>\n",
       "      <th>20000</th>\n",
       "      <td>Christopher Lambert is annoying and disappoint...</td>\n",
       "      <td>0</td>\n",
       "      <td>NaN</td>\n",
       "    </tr>\n",
       "    <tr>\n",
       "      <th>30000</th>\n",
       "      <td>Supposedly, a movie about a magazine sending j...</td>\n",
       "      <td>0</td>\n",
       "      <td>NaN</td>\n",
       "    </tr>\n",
       "  </tbody>\n",
       "</table>\n",
       "</div>"
      ],
      "text/plain": [
       "                                                    text  label short\n",
       "10000  All this dismaying waste of film stock needs i...      0   NaN\n",
       "20000  Christopher Lambert is annoying and disappoint...      0   NaN\n",
       "30000  Supposedly, a movie about a magazine sending j...      0   NaN"
      ]
     },
     "execution_count": 62,
     "metadata": {},
     "output_type": "execute_result"
    }
   ],
   "source": [
    "df[df['short'].isnull()]"
   ]
  },
  {
   "cell_type": "code",
   "execution_count": 73,
   "metadata": {},
   "outputs": [
    {
     "name": "stdout",
     "output_type": "stream",
     "text": [
      "All this dismaying waste of film stock needs is Count Floyd popping up every sixty seconds. Somehow they got Steve Railsback, Susan Anspach, John Vernon, and Joe Flaherty together on a set and couldn't get within five miles, about eight kilometers, of an actual movie. BOY does this thing suck. There isn't one original line, thought, shot, or effect from brainless opening sequence to brainless close. The magical, ethereal Susan Anspach of Five Easy Pieces - boring. Steve Railsback - boring. John Vernon - boring. The big bug - boring. If this is a scary movie, Buttercream Gang is a thuglife documentary. <br /><br />Seriously - every bad movie contains its own explanation of its badness. Usually it's in the opening credits - Written, Directed, and Produced by one guy. Or at the very center of the action is some bimbo so talentless that you know there's one and only one reason this turkey got made. Here, you don't find out till the very last of the credits, where the cooperation of about a dozen subfunctions of the Canadian Government is gratefully acknowledged. <br /><br />Right now I'm watching MST's take on Beast of Yucca Flats to get the taste out of my mouth. Ghod, what an improvement. \n",
      "\n",
      "dismaying waste film stock need Count Floyd pop second get Steve Railsback Susan Anspach John Vernon Joe Flaherty set mile kilometer actual movie BOY thing suck original line thought shoot effect brainless open sequence brainless close magical ethereal Susan Anspach Easy piece boring Steve Railsback boring John Vernon boring big bug boring scary movie Buttercream Gang thuglife documentary < br /><br />seriously bad movie contain explanation badness usually opening credit write direct produce guy center action bimbo talentless know reason turkey get find till credit cooperation dozen subfunction canadian Government gratefully acknowledge < br /><br />Right watch MST Beast Yucca Flats taste mouth Ghod improvement\n"
     ]
    }
   ],
   "source": [
    "text10000 = df['text'][10000]#.apply(convert_text)\n",
    "clean_text10000 = convert_text(text10000)\n",
    "print(text10000, '\\n')\n",
    "print(clean_text10000)"
   ]
  },
  {
   "cell_type": "code",
   "execution_count": 87,
   "metadata": {},
   "outputs": [],
   "source": [
    "df['short'][10000]=clean_text10000"
   ]
  },
  {
   "cell_type": "code",
   "execution_count": 88,
   "metadata": {},
   "outputs": [
    {
     "data": {
      "text/plain": [
       "text     All this dismaying waste of film stock needs i...\n",
       "label                                                    0\n",
       "short    dismaying waste film stock need Count Floyd po...\n",
       "Name: 10000, dtype: object"
      ]
     },
     "execution_count": 88,
     "metadata": {},
     "output_type": "execute_result"
    }
   ],
   "source": [
    "df.iloc[10000]"
   ]
  },
  {
   "cell_type": "code",
   "execution_count": 90,
   "metadata": {
    "scrolled": true
   },
   "outputs": [
    {
     "name": "stdout",
     "output_type": "stream",
     "text": [
      "Christopher Lambert is annoying and disappointing in his portrayal as GIDEON. This movie could have been a classic had Lambert performed as well as Tom Hanks in Forrest Gump, or Dustin Hoffman as Raymond Babbitt in RAIN MAN, or Sean Penn as Sam Dawson in I AM SAM.<br /><br />Too bad because the story line is meaningful to us in life, the supporting performances by Charlton Heston, Carroll O'Connor, Shirley Jones, Mike Connors and Shelley Winters were excelent. 3 of 10. \n",
      "\n",
      "Christopher Lambert annoying disappointing portrayal GIDEON movie classic Lambert perform Tom Hanks Forrest Gump Dustin Hoffman Raymond Babbitt RAIN man Sean Penn Sam Dawson SAM.<br /><br />Too bad story line meaningful life support performance Charlton Heston Carroll O'Connor Shirley Jones Mike Connors Shelley Winters excelent 3 10\n"
     ]
    }
   ],
   "source": [
    "text20000 = df['text'][20000]\n",
    "clean_text20000 = convert_text(text20000)\n",
    "print(text20000, '\\n')\n",
    "print(clean_text20000)"
   ]
  },
  {
   "cell_type": "code",
   "execution_count": 91,
   "metadata": {},
   "outputs": [],
   "source": [
    "df['short'][20000]=clean_text20000"
   ]
  },
  {
   "cell_type": "code",
   "execution_count": 92,
   "metadata": {},
   "outputs": [
    {
     "data": {
      "text/plain": [
       "text     Christopher Lambert is annoying and disappoint...\n",
       "label                                                    0\n",
       "short    Christopher Lambert annoying disappointing por...\n",
       "Name: 20000, dtype: object"
      ]
     },
     "execution_count": 92,
     "metadata": {},
     "output_type": "execute_result"
    }
   ],
   "source": [
    "df.iloc[20000]"
   ]
  },
  {
   "cell_type": "code",
   "execution_count": 93,
   "metadata": {
    "scrolled": true
   },
   "outputs": [
    {
     "name": "stdout",
     "output_type": "stream",
     "text": [
      "Supposedly, a movie about a magazine sending journalists to investigate reports of UFOs with one being more or less tolerant or agnostic about the whole affair and the other an Aussie, a hardened skeptic who laughs at the UFO nonsense. It's all a crock, some kind of money making racket.<br /><br />Turns out this movie is actually a deceit, and a trap to actually promulgate Christian teachings and the Christian explanation of UFOs, one I've heard before. This is an ad hoc explanation that is itself not at all biblical but invented by certain modern theologians who can fit anything and everything into their mythology. The paranormal? It's real, just demonic, unless it takes place in a Christian context, then of course, it is of God. Simple, if it isn't of God, it's the of the Devil, stupid! So I suppose since Beethoven's 9th symphony wasn't inspired by God, it must have been written under demonic influence. Or so would the logic lead ad absurdum.<br /><br />We are informed that since the Bible does not tell of life on other planets in the Universe, therefore there is none (a version of the Ad Ignorantium fallacy) and that God created the Universe so huge, so grand to show us his almighty power. I think of Carl Sagan's remark that if God created such a huge Universe and stuck life only on Earth it'd have been a tremendous waste of space.<br /><br />So what are UFOs? They are Demonic activity and concern the soon to be earthshaking Christian event, the rupture...I mean Rapture. Before the tribulation, the true Christians will disappear from the face of the earth en masse causing mass panic, confusion, car and plane crashes...whatever. Therefore Satan knowing this is sending his demons to basically create an illusion of alien spacecraft and alien abduction which can then be used to explain away this otherwise inexplicable event. All part of Satan's plan which will of course keep people from looking to God or Jesus and fall for the lies of the AntiChrist.<br /><br />This ad hoc explanation also typifies theological mishmash by explaining away one mystery with another, in opposition to the scientific method of explaining the unknown, the strange, and the mysterious in as much as possible, first by the known, if not solely by the known.<br /><br />It's like jumping straight to an alien abduction whenever a child is missing and unaccounted for. I think I'd look first at more mundane explanations like the child has run away, gotten lost, or been kidnapped for ransom or abducted by a predatory pedophile before invoking aliens, or the supernatural or Satan or some such.<br /><br />This kind of deceit or trap on the part of fundamentalists is nothing new, as young people are often lured to Free Rock Concerts, that may start out with something innocuous then suddenly switch to overt Christian music, followed by a sermon and an altar call. This kind of blatant deception one might think would be more Satan's ballgame. But maybe because the Christian faith is soon to be in its death throes, these guys feel that anything goes, any deception or trickery or scare tactics are acceptable to try to keep the faith alive, which is facing serious opposition from both secularists as well as competing faiths like Islam, the world's fastest growing religion which may well replace Christianity, as Islam is far more cohesive and unified, and logically more tenable than Christian fundamentalism. Although this should offer little advantage to mankind, as it would be replacing one intolerant thought system with another.<br /><br />And of course the movie ends more or less with a variant of Pascal's wager. The atheistic Aussie who is skeptical about just about everything is told. Well, if you are right about there being no afterlife and death is nothing but rotting in the grave, no worry...but what if you're wrong?<br /><br />Basically, statements implying that reality is going to conform to nothing but an atheistic viewpoint or Christian fantasy, is a false dilemma or Black and White fallacy. Even if the atheists are wrong would not necessarily make Christianity correct by default, nor if Christianity turns out to be full of holes in its theology, that the materialistic atheists are therefore correct by default.<br /><br />For all we know, Native American spirituality might turn out to be the best description of ultimate reality and we might all of use have wished we treated the Earth and its creatures a wee bit better.<br /><br />This movie should be stamped right on the box: Caution: Contains religious Propaganda and not meant for informative or entertainment purposes. \n",
      "\n",
      "supposedly movie magazine send journalist investigate report ufo tolerant agnostic affair Aussie harden skeptic laugh UFO nonsense crock kind money make racket.<br /><br />Turns movie actually deceit trap actually promulgate christian teaching christian explanation ufo hear ad hoc explanation biblical invent certain modern theologian fit mythology paranormal real demonic take place christian context course God simple God Devil stupid suppose Beethoven 9th symphony inspire God write demonic influence logic lead ad absurdum.<br /><br />We inform Bible tell life planet Universe version Ad Ignorantium fallacy God create Universe huge grand almighty power think Carl Sagan remark God create huge universe stuck life Earth tremendous waste space.<br /><br />So ufo demonic activity concern soon earthshake christian event rupture mean Rapture tribulation true Christians disappear face earth en masse cause mass panic confusion car plane crash Satan know send demon basically create illusion alien spacecraft alien abduction explain away inexplicable event Satan plan course people look God Jesus fall lie AntiChrist.<br /><br />This ad hoc explanation typify theological mishmash explain away mystery opposition scientific method explain unknown strange mysterious possible know solely known.<br /><br />It like jump straight alien abduction child missing unaccounted think look mundane explanation like child run away get lost kidnap ransom abduct predatory pedophile invoke alien supernatural Satan such.<br /><br />This kind deceit trap fundamentalist new young people lure Free Rock Concerts start innocuous suddenly switch overt christian music follow sermon altar kind blatant deception think Satan ballgame maybe christian faith soon death throe guy feel go deception trickery scare tactic acceptable try faith alive face opposition secularist compete faith like Islam world fast grow religion replace Christianity Islam far cohesive unified logically tenable christian fundamentalism offer little advantage mankind replace intolerant thought system another.<br /><br />And course movie end variant Pascal wager atheistic Aussie skeptical tell right afterlife death rot grave worry wrong?<br /><br />Basically statement imply reality go conform atheistic viewpoint christian fantasy false dilemma black white fallacy atheist wrong necessarily Christianity correct default Christianity turn hole theology materialistic atheist correct default.<br /><br />For know native american spirituality turn good description ultimate reality use wish treat Earth creature wee bit better.<br /><br />This movie stamp right box caution contain religious propaganda mean informative entertainment purpose\n"
     ]
    }
   ],
   "source": [
    "text30000 = df['text'][30000]\n",
    "clean_text30000 = convert_text(text30000)\n",
    "print(text30000, '\\n')\n",
    "print(clean_text30000)"
   ]
  },
  {
   "cell_type": "code",
   "execution_count": 94,
   "metadata": {},
   "outputs": [],
   "source": [
    "df['short'][30000]=clean_text30000"
   ]
  },
  {
   "cell_type": "code",
   "execution_count": 95,
   "metadata": {},
   "outputs": [
    {
     "data": {
      "text/plain": [
       "text     Supposedly, a movie about a magazine sending j...\n",
       "label                                                    0\n",
       "short    supposedly movie magazine send journalist inve...\n",
       "Name: 30000, dtype: object"
      ]
     },
     "execution_count": 95,
     "metadata": {},
     "output_type": "execute_result"
    }
   ],
   "source": [
    "df.iloc[30000]"
   ]
  },
  {
   "cell_type": "code",
   "execution_count": 112,
   "metadata": {},
   "outputs": [
    {
     "name": "stdout",
     "output_type": "stream",
     "text": [
      "<class 'pandas.core.frame.DataFrame'>\n",
      "RangeIndex: 40000 entries, 0 to 39999\n",
      "Data columns (total 3 columns):\n",
      " #   Column  Non-Null Count  Dtype \n",
      "---  ------  --------------  ----- \n",
      " 0   text    40000 non-null  object\n",
      " 1   label   40000 non-null  int64 \n",
      " 2   short   40000 non-null  object\n",
      "dtypes: int64(1), object(2)\n",
      "memory usage: 937.6+ KB\n"
     ]
    }
   ],
   "source": [
    "df.info()"
   ]
  },
  {
   "cell_type": "code",
   "execution_count": 104,
   "metadata": {},
   "outputs": [],
   "source": [
    "# 2nd round of text preparation to remove < br />\n",
    "def clean_text2(text):\n",
    "  \n",
    "    text = re.sub(r'(<\\s+br />)|(<br />)', '', text)\n",
    "        \n",
    "    return text\n"
   ]
  },
  {
   "cell_type": "code",
   "execution_count": 105,
   "metadata": {},
   "outputs": [],
   "source": [
    "test = 'ismaying waste film stock need Count Floyd pop second get Steve Railsback Susan Anspach John Vernon Joe Flaherty set mile kilometer actual movie BOY thing suck original line thought shoot effect brainless open sequence brainless close magical ethereal Susan Anspach Easy piece boring Steve Railsback boring John Vernon boring big bug boring scary movie Buttercream Gang thuglife documentary < br />seriously bad movie contain explanation badness usually opening credit write direct produce guy center action bimbo talentless know reason turkey get find till credit cooperation dozen subfunction canadian Government gratefully acknowledge < br />Right watch MST Beast Yucca Flats taste mouth Ghod improvement'"
   ]
  },
  {
   "cell_type": "code",
   "execution_count": 106,
   "metadata": {},
   "outputs": [
    {
     "data": {
      "text/plain": [
       "'ismaying waste film stock need Count Floyd pop second get Steve Railsback Susan Anspach John Vernon Joe Flaherty set mile kilometer actual movie BOY thing suck original line thought shoot effect brainless open sequence brainless close magical ethereal Susan Anspach Easy piece boring Steve Railsback boring John Vernon boring big bug boring scary movie Buttercream Gang thuglife documentary seriously bad movie contain explanation badness usually opening credit write direct produce guy center action bimbo talentless know reason turkey get find till credit cooperation dozen subfunction canadian Government gratefully acknowledge Right watch MST Beast Yucca Flats taste mouth Ghod improvement'"
      ]
     },
     "execution_count": 106,
     "metadata": {},
     "output_type": "execute_result"
    }
   ],
   "source": [
    "clean_text2(test)"
   ]
  },
  {
   "cell_type": "code",
   "execution_count": 107,
   "metadata": {},
   "outputs": [],
   "source": [
    "df['short'] = df['short'].apply(clean_text2)"
   ]
  },
  {
   "cell_type": "code",
   "execution_count": 111,
   "metadata": {},
   "outputs": [
    {
     "data": {
      "text/plain": [
       "'dismaying waste film stock need Count Floyd pop second get Steve Railsback Susan Anspach John Vernon Joe Flaherty set mile kilometer actual movie BOY thing suck original line thought shoot effect brainless open sequence brainless close magical ethereal Susan Anspach Easy piece boring Steve Railsback boring John Vernon boring big bug boring scary movie Buttercream Gang thuglife documentary seriously bad movie contain explanation badness usually opening credit write direct produce guy center action bimbo talentless know reason turkey get find till credit cooperation dozen subfunction canadian Government gratefully acknowledge Right watch MST Beast Yucca Flats taste mouth Ghod improvement'"
      ]
     },
     "execution_count": 111,
     "metadata": {},
     "output_type": "execute_result"
    }
   ],
   "source": [
    "df.iloc[10000]['short']"
   ]
  },
  {
   "cell_type": "code",
   "execution_count": 114,
   "metadata": {},
   "outputs": [],
   "source": [
    "df.to_csv('clean_df.csv') # clean df to work on without the need to re-do the preprocessing"
   ]
  },
  {
   "cell_type": "code",
   "execution_count": 116,
   "metadata": {},
   "outputs": [],
   "source": [
    "# df1 = pd.read_csv('clean_df.csv')"
   ]
  },
  {
   "cell_type": "code",
   "execution_count": 117,
   "metadata": {},
   "outputs": [],
   "source": [
    "# Features and Labels\n",
    "X = df['short']\n",
    "y = df['label']\n",
    "\n",
    "# split the dataset\n",
    "X_train, X_test, y_train, y_test = train_test_split(X, y, test_size = 0.2, random_state = 42)"
   ]
  },
  {
   "cell_type": "markdown",
   "metadata": {},
   "source": [
    "## Use Bag-of-Words"
   ]
  },
  {
   "cell_type": "code",
   "execution_count": 132,
   "metadata": {},
   "outputs": [
    {
     "name": "stdout",
     "output_type": "stream",
     "text": [
      "Accuracy: 0.6409\n"
     ]
    }
   ],
   "source": [
    "# create a matrix of word counts from the text\n",
    "counts = CountVectorizer()\n",
    "\n",
    "# do the actual counting\n",
    "A = counts.fit_transform(X_train, y_train)\n",
    "\n",
    "# create a classifier using SVC\n",
    "classifier = SVC(kernel='linear', probability=True, max_iter = 1000)\n",
    "\n",
    "# train the classifier with the training data\n",
    "classifier.fit(A, y_train)\n",
    "\n",
    "# do the transformation for the test data\n",
    "# NOTE: use `transform()` instead of `fit_transform()`\n",
    "B = counts.transform(X_test)\n",
    "\n",
    "# make predictions and prediction probability based on the test data\n",
    "\n",
    "predictions = classifier.predict(B)\n",
    "\n",
    "y_pp = classifier.predict_proba(B)[:,1]\n",
    "\n",
    "# check the accuracy\n",
    "print('Accuracy: %.4f' % accuracy_score(y_test, predictions))"
   ]
  },
  {
   "cell_type": "markdown",
   "metadata": {},
   "source": [
    "## TD-IDF"
   ]
  },
  {
   "cell_type": "code",
   "execution_count": 134,
   "metadata": {},
   "outputs": [
    {
     "name": "stdout",
     "output_type": "stream",
     "text": [
      "Accuracy: 0.7809\n"
     ]
    }
   ],
   "source": [
    "# create a matrix of word counts from the text\n",
    "# use TF-IDF\n",
    "tfidf = TfidfVectorizer()\n",
    "\n",
    "# do the actual counting\n",
    "A_tf = tfidf.fit_transform(X_train, y_train)\n",
    "\n",
    "# train the classifier with the training data\n",
    "classifier.fit(A_tf, y_train)\n",
    "\n",
    "# do the transformation for the test data\n",
    "# NOTE: use `transform()` instead of `fit_transform()`\n",
    "B_tf = tfidf.transform(X_test)\n",
    "\n",
    "# make predictions and prediction probability based on the test data\n",
    "predictions_tf = classifier.predict(B_tf)\n",
    "\n",
    "y_pp_tf = classifier.predict_proba(B_tf)[:,1]\n",
    "\n",
    "# check the accuracy\n",
    "print('Accuracy: %.4f' % accuracy_score(y_test, predictions_tf))"
   ]
  },
  {
   "cell_type": "code",
   "execution_count": 129,
   "metadata": {},
   "outputs": [],
   "source": [
    "# max_iter increases -> accuracy score improves\n",
    "# TD-IDF gives better accuracy score\n",
    "# count vectorizater gives better Recall than td-idf when max_iter <10\n",
    "# td-idf catching up with count vectorizater when max_iter = 100\n",
    "# td-idf shows better score than count vectorizater when max_iter = 1000\n"
   ]
  },
  {
   "cell_type": "markdown",
   "metadata": {},
   "source": [
    "## Comparison"
   ]
  },
  {
   "cell_type": "code",
   "execution_count": 135,
   "metadata": {},
   "outputs": [
    {
     "name": "stdout",
     "output_type": "stream",
     "text": [
      "Accuracy : 0.6409 [TP / N] Proportion of predicted labels that match the true labels. Best: 1, Worst: 0\n",
      "Precision: 0.6286 [TP / (TP + FP)] Not to label a negative sample as positive.        Best: 1, Worst: 0\n",
      "Recall   : 0.7033 [TP / (TP + FN)] Find all the positive samples.                     Best: 1, Worst: 0\n",
      "ROC AUC  : 0.7037                                                                     Best: 1, Worst: < 0.5\n",
      "-----------------------------------------------------------------------------------------------------------\n",
      "TP: True Positives, FP: False Positives, TN: True Negatives, FN: False Negatives, N: Number of samples\n"
     ]
    },
    {
     "data": {
      "image/png": "[encoded data removed]",
      "text/plain": [
       "<Figure size 1296x432 with 3 Axes>"
      ]
     },
     "metadata": {
      "needs_background": "light"
     },
     "output_type": "display_data"
    },
    {
     "data": {
      "text/plain": [
       "(0.640875, 0.6286284068247285, 0.7032721864154685, 0.7036775907059285)"
      ]
     },
     "execution_count": 135,
     "metadata": {},
     "output_type": "execute_result"
    }
   ],
   "source": [
    "# ANSWER - Counts Vectorizater\n",
    "show_summary_report(y_test, predictions, y_pp)"
   ]
  },
  {
   "cell_type": "code",
   "execution_count": 136,
   "metadata": {},
   "outputs": [
    {
     "name": "stdout",
     "output_type": "stream",
     "text": [
      "Accuracy : 0.7809 [TP / N] Proportion of predicted labels that match the true labels. Best: 1, Worst: 0\n",
      "Precision: 0.7898 [TP / (TP + FP)] Not to label a negative sample as positive.        Best: 1, Worst: 0\n",
      "Recall   : 0.7705 [TP / (TP + FN)] Find all the positive samples.                     Best: 1, Worst: 0\n",
      "ROC AUC  : 0.8631                                                                     Best: 1, Worst: < 0.5\n",
      "-----------------------------------------------------------------------------------------------------------\n",
      "TP: True Positives, FP: False Positives, TN: True Negatives, FN: False Negatives, N: Number of samples\n"
     ]
    },
    {
     "data": {
      "image/png": "[encoded data removed]",
      "text/plain": [
       "<Figure size 1296x432 with 3 Axes>"
      ]
     },
     "metadata": {
      "needs_background": "light"
     },
     "output_type": "display_data"
    },
    {
     "data": {
      "text/plain": [
       "(0.780875, 0.7898348157560355, 0.7704511650966782, 0.8630818264119583)"
      ]
     },
     "execution_count": 136,
     "metadata": {},
     "output_type": "execute_result"
    }
   ],
   "source": [
    "#Answer - td-idf\n",
    "show_summary_report(y_test, predictions_tf, y_pp_tf)"
   ]
  },
  {
   "cell_type": "code",
   "execution_count": null,
   "metadata": {},
   "outputs": [],
   "source": []
  },
  {
   "cell_type": "markdown",
   "metadata": {},
   "source": [
    "## validate with test dataset"
   ]
  },
  {
   "cell_type": "code",
   "execution_count": 138,
   "metadata": {},
   "outputs": [],
   "source": [
    "# load data\n",
    "dft = pd.read_csv('test.csv')"
   ]
  },
  {
   "cell_type": "code",
   "execution_count": 139,
   "metadata": {},
   "outputs": [
    {
     "data": {
      "text/plain": [
       "(5000, 2)"
      ]
     },
     "execution_count": 139,
     "metadata": {},
     "output_type": "execute_result"
    }
   ],
   "source": [
    "dft.shape"
   ]
  },
  {
   "cell_type": "code",
   "execution_count": 140,
   "metadata": {},
   "outputs": [
    {
     "name": "stdout",
     "output_type": "stream",
     "text": [
      "<class 'pandas.core.frame.DataFrame'>\n",
      "RangeIndex: 5000 entries, 0 to 4999\n",
      "Data columns (total 2 columns):\n",
      " #   Column  Non-Null Count  Dtype \n",
      "---  ------  --------------  ----- \n",
      " 0   text    5000 non-null   object\n",
      " 1   label   5000 non-null   int64 \n",
      "dtypes: int64(1), object(1)\n",
      "memory usage: 78.2+ KB\n"
     ]
    }
   ],
   "source": [
    "dft.info()"
   ]
  },
  {
   "cell_type": "code",
   "execution_count": 141,
   "metadata": {},
   "outputs": [],
   "source": [
    "dft['text'] = dft['text'].apply(clean_text)"
   ]
  },
  {
   "cell_type": "code",
   "execution_count": 142,
   "metadata": {},
   "outputs": [],
   "source": [
    "dft['text'] = dft['text'].apply(clean_text2)"
   ]
  },
  {
   "cell_type": "code",
   "execution_count": 143,
   "metadata": {},
   "outputs": [],
   "source": [
    "dft['short'] = dft['text'].apply(convert_text)"
   ]
  },
  {
   "cell_type": "code",
   "execution_count": 144,
   "metadata": {},
   "outputs": [
    {
     "name": "stdout",
     "output_type": "stream",
     "text": [
      "<class 'pandas.core.frame.DataFrame'>\n",
      "RangeIndex: 5000 entries, 0 to 4999\n",
      "Data columns (total 3 columns):\n",
      " #   Column  Non-Null Count  Dtype \n",
      "---  ------  --------------  ----- \n",
      " 0   text    5000 non-null   object\n",
      " 1   label   5000 non-null   int64 \n",
      " 2   short   5000 non-null   object\n",
      "dtypes: int64(1), object(2)\n",
      "memory usage: 117.3+ KB\n"
     ]
    }
   ],
   "source": [
    "dft.info()"
   ]
  },
  {
   "cell_type": "code",
   "execution_count": 145,
   "metadata": {},
   "outputs": [],
   "source": [
    "# Features and Labels\n",
    "X_dft = dft['short']\n",
    "y_dft = dft['label']"
   ]
  },
  {
   "cell_type": "code",
   "execution_count": 146,
   "metadata": {
    "scrolled": true
   },
   "outputs": [
    {
     "name": "stdout",
     "output_type": "stream",
     "text": [
      "Accuracy: 0.7940\n",
      "Accuracy : 0.7940 [TP / N] Proportion of predicted labels that match the true labels. Best: 1, Worst: 0\n",
      "Precision: 0.7635 [TP / (TP + FP)] Not to label a negative sample as positive.        Best: 1, Worst: 0\n",
      "Recall   : 0.8531 [TP / (TP + FN)] Find all the positive samples.                     Best: 1, Worst: 0\n",
      "ROC AUC  : 0.8685                                                                     Best: 1, Worst: < 0.5\n",
      "-----------------------------------------------------------------------------------------------------------\n",
      "TP: True Positives, FP: False Positives, TN: True Negatives, FN: False Negatives, N: Number of samples\n"
     ]
    },
    {
     "data": {
      "image/png": "[encoded data removed]",
      "text/plain": [
       "<Figure size 1296x432 with 3 Axes>"
      ]
     },
     "metadata": {
      "needs_background": "light"
     },
     "output_type": "display_data"
    },
    {
     "data": {
      "text/plain": [
       "(0.794, 0.7634869596284387, 0.8530938123752495, 0.8685329941319766)"
      ]
     },
     "execution_count": 146,
     "metadata": {},
     "output_type": "execute_result"
    }
   ],
   "source": [
    "# Count Vectorizater\n",
    "# do the transformation for the test data\n",
    "# NOTE: use `transform()` instead of `fit_transform()`\n",
    "B_test = counts.transform(X_dft)\n",
    "\n",
    "# make predictions and prediction probability based on the test data\n",
    "\n",
    "predictions_test = classifier.predict(B_test)\n",
    "\n",
    "y_pp_test = classifier.predict_proba(B_test)[:,1]\n",
    "\n",
    "# check the accuracy\n",
    "print('Accuracy: %.4f' % accuracy_score(y_dft, predictions_test))\n",
    "show_summary_report(y_dft, predictions_test, y_pp_test)"
   ]
  },
  {
   "cell_type": "code",
   "execution_count": 147,
   "metadata": {},
   "outputs": [
    {
     "name": "stdout",
     "output_type": "stream",
     "text": [
      "Accuracy: 0.7920\n"
     ]
    }
   ],
   "source": [
    "# td-idf\n",
    "# do the transformation for the test data\n",
    "# NOTE: use `transform()` instead of `fit_transform()`\n",
    "B_tf_test = tfidf.transform(X_dft)\n",
    "\n",
    "# make predictions and prediction probability based on the test data\n",
    "predictions_tf_test = classifier.predict(B_tf_test)\n",
    "\n",
    "y_pp_tf_test = classifier.predict_proba(B_tf_test)[:,1]\n",
    "\n",
    "# check the accuracy\n",
    "print('Accuracy: %.4f' % accuracy_score(y_dft, predictions_tf_test))"
   ]
  },
  {
   "cell_type": "code",
   "execution_count": 148,
   "metadata": {},
   "outputs": [
    {
     "name": "stdout",
     "output_type": "stream",
     "text": [
      "Accuracy : 0.7920 [TP / N] Proportion of predicted labels that match the true labels. Best: 1, Worst: 0\n",
      "Precision: 0.7955 [TP / (TP + FP)] Not to label a negative sample as positive.        Best: 1, Worst: 0\n",
      "Recall   : 0.7872 [TP / (TP + FN)] Find all the positive samples.                     Best: 1, Worst: 0\n",
      "ROC AUC  : 0.8741                                                                     Best: 1, Worst: < 0.5\n",
      "-----------------------------------------------------------------------------------------------------------\n",
      "TP: True Positives, FP: False Positives, TN: True Negatives, FN: False Negatives, N: Number of samples\n"
     ]
    },
    {
     "data": {
      "image/png": "[encoded data removed]",
      "text/plain": [
       "<Figure size 1296x432 with 3 Axes>"
      ]
     },
     "metadata": {
      "needs_background": "light"
     },
     "output_type": "display_data"
    },
    {
     "data": {
      "text/plain": [
       "(0.792, 0.7954820492133925, 0.7872255489021956, 0.8740700562802252)"
      ]
     },
     "execution_count": 148,
     "metadata": {},
     "output_type": "execute_result"
    }
   ],
   "source": [
    "show_summary_report(y_dft, predictions_tf_test, y_pp_tf_test)"
   ]
  },
  {
   "cell_type": "code",
   "execution_count": 176,
   "metadata": {},
   "outputs": [
    {
     "data": {
      "text/plain": [
       "text     2505\n",
       "label    2505\n",
       "short    2505\n",
       "dtype: int64"
      ]
     },
     "execution_count": 176,
     "metadata": {},
     "output_type": "execute_result"
    }
   ],
   "source": [
    "dft[dft['label']==1].count()"
   ]
  },
  {
   "cell_type": "code",
   "execution_count": null,
   "metadata": {},
   "outputs": [],
   "source": []
  }
 ],
 "metadata": {
  "kernelspec": {
   "display_name": "Python 3",
   "language": "python",
   "name": "python3"
  },
  "language_info": {
   "codemirror_mode": {
    "name": "ipython",
    "version": 3
   },
   "file_extension": ".py",
   "mimetype": "text/x-python",
   "name": "python",
   "nbconvert_exporter": "python",
   "pygments_lexer": "ipython3",
   "version": "3.7.6"
  }
 },
 "nbformat": 4,
 "nbformat_minor": 4
}
